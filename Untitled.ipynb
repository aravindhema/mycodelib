{
 "cells": [
  {
   "cell_type": "code",
   "execution_count": 21,
   "metadata": {},
   "outputs": [],
   "source": [
    "from flask_sqlalchemy import SQLAlchemy\n",
    "from flask import Flask, request, flash, url_for, redirect, render_template\n",
    "\n",
    "app = Flask(__name__,template_folder = \"C:\\\\Users\\\\HemaRamachandran\\\\template\")"
   ]
  },
  {
   "cell_type": "code",
   "execution_count": 22,
   "metadata": {},
   "outputs": [
    {
     "name": "stderr",
     "output_type": "stream",
     "text": [
      "C:\\Users\\HemaRamachandran\\AppData\\Local\\Continuum\\anaconda3\\lib\\site-packages\\flask_sqlalchemy\\__init__.py:835: FSADeprecationWarning: SQLALCHEMY_TRACK_MODIFICATIONS adds significant overhead and will be disabled by default in the future.  Set it to True or False to suppress this warning.\n",
      "  'SQLALCHEMY_TRACK_MODIFICATIONS adds significant overhead and '\n"
     ]
    }
   ],
   "source": [
    "app.config['SQLALCHEMY_DATABASE_URI'] = 'sqlite:///students.sqlite3'\n",
    "app.config['SECRET_KEY'] = \"random string\"\n",
    "\n",
    "db = SQLAlchemy(app)\n",
    "\n",
    "class students(db.Model):\n",
    "    id = db.Column('student_id',db.Integer,primary_key = True)\n",
    "    name = db.Column(db.String(100))\n",
    "    city = db.Column(db.String(50))\n",
    "    addr = db.Column(db.String(200))\n",
    "    pin = db.Column(db.String(10))\n",
    "    \n",
    "    def __init__(self,name,city,addr,pin):\n",
    "        self.name = name\n",
    "        self.city = city\n",
    "        self.addr = addr\n",
    "        self.pin = pin"
   ]
  },
  {
   "cell_type": "code",
   "execution_count": 23,
   "metadata": {},
   "outputs": [],
   "source": [
    "db.create_all()"
   ]
  },
  {
   "cell_type": "code",
   "execution_count": 24,
   "metadata": {},
   "outputs": [
    {
     "name": "stderr",
     "output_type": "stream",
     "text": [
      " * Running on http://127.0.0.1:5000/ (Press CTRL+C to quit)\n",
      "127.0.0.1 - - [12/Jan/2020 07:26:02] \"GET / HTTP/1.1\" 200 -\n",
      "127.0.0.1 - - [12/Jan/2020 07:26:05] \"GET / HTTP/1.1\" 200 -\n",
      "127.0.0.1 - - [12/Jan/2020 07:26:07] \"GET /new HTTP/1.1\" 200 -\n",
      "127.0.0.1 - - [12/Jan/2020 07:26:19] \"POST /new HTTP/1.1\" 302 -\n",
      "127.0.0.1 - - [12/Jan/2020 07:26:19] \"GET / HTTP/1.1\" 200 -\n"
     ]
    }
   ],
   "source": [
    "@app.route('/')\n",
    "def show_all():\n",
    "    return render_template('show_all.html',students=students.query.all())\n",
    "\n",
    "@app.route('/new',methods=['GET','POST'])\n",
    "def new():\n",
    "    if request.method == 'POST':\n",
    "        if not request.form['name'] or not request.form['city'] or not request.form['addr']:\n",
    "            flash('Please enter all the fields','error')\n",
    "        else:\n",
    "            student = students(request.form['name'],request.form['city'],\n",
    "                               request.form['addr'],request.form['pin'])\n",
    "            db.session.add(student)\n",
    "            db.session.commit()\n",
    "            flash('Record was successfully added')\n",
    "            return redirect(url_for('show_all'))\n",
    "    return render_template('new.html')\n",
    "\n",
    "if __name__ == '__main__':\n",
    "    db.create_all()\n",
    "    app.run(port=5000)"
   ]
  }
 ],
 "metadata": {
  "kernelspec": {
   "display_name": "Python 3",
   "language": "python",
   "name": "python3"
  },
  "language_info": {
   "codemirror_mode": {
    "name": "ipython",
    "version": 3
   },
   "file_extension": ".py",
   "mimetype": "text/x-python",
   "name": "python",
   "nbconvert_exporter": "python",
   "pygments_lexer": "ipython3",
   "version": "3.7.4"
  }
 },
 "nbformat": 4,
 "nbformat_minor": 2
}
