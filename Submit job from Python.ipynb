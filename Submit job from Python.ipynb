{
 "cells": [
  {
   "cell_type": "code",
   "execution_count": 1,
   "metadata": {},
   "outputs": [],
   "source": [
    "import zosftplib"
   ]
  },
  {
   "cell_type": "code",
   "execution_count": 2,
   "metadata": {},
   "outputs": [],
   "source": [
    "myftp = zosftplib.Zftp('sbrys32.pok.ibm.com', \n",
    "                        'HRAMA28', \n",
    "                        'Aravind2',\n",
    "                        timeout=500.0, \n",
    "                        sbdataconn='(ibm-1147,iso8859-1)')\n"
   ]
  },
  {
   "cell_type": "code",
   "execution_count": 3,
   "metadata": {},
   "outputs": [],
   "source": [
    "myftp.download_text('UT03.PAYR.NPSACEF.SEQNUM', 'mfname.txt')"
   ]
  },
  {
   "cell_type": "code",
   "execution_count": 14,
   "metadata": {},
   "outputs": [],
   "source": [
    "myftp.download_text('UT03.HRAMA.MYJCLS(AUDITSRT)', 'auditsrt.txt')"
   ]
  },
  {
   "cell_type": "code",
   "execution_count": 15,
   "metadata": {},
   "outputs": [],
   "source": [
    "job = myftp.submit_job('auditsrt.txt')"
   ]
  },
  {
   "cell_type": "code",
   "execution_count": 16,
   "metadata": {},
   "outputs": [
    {
     "name": "stdout",
     "output_type": "stream",
     "text": [
      "{'jobid': 'JOB19763', 'owner': '?', 'class': '?', 'rc': '?', 'jobname': '?', 'spool': '?'}\n"
     ]
    }
   ],
   "source": [
    "print(job)"
   ]
  },
  {
   "cell_type": "code",
   "execution_count": 18,
   "metadata": {},
   "outputs": [
    {
     "name": "stdout",
     "output_type": "stream",
     "text": [
      "jobid\n",
      "owner\n",
      "class\n",
      "rc\n",
      "jobname\n",
      "spool\n"
     ]
    }
   ],
   "source": [
    "for line in job:\n",
    "    print(line)"
   ]
  },
  {
   "cell_type": "code",
   "execution_count": 25,
   "metadata": {},
   "outputs": [
    {
     "name": "stderr",
     "output_type": "stream",
     "text": [
      " * Running on http://127.0.0.1:5000/ (Press CTRL+C to quit)\n",
      "127.0.0.1 - - [27/Jan/2020 06:56:27] \"GET / HTTP/1.1\" 200 -\n",
      "127.0.0.1 - - [27/Jan/2020 06:56:28] \"GET /getplotcsv HTTP/1.1\" 200 -\n"
     ]
    }
   ],
   "source": [
    "from flask import Flask, Response, send_file\n",
    "app = Flask(__name__)\n",
    "\n",
    "@app.route('/')\n",
    "def hello():\n",
    "    return '''\n",
    "    <html><body>\n",
    "    Hellooo <a href=\"/getplotcsv\">Click Me.</a>\n",
    "    </body></html>\n",
    "    '''\n",
    "@app.route('/getplotcsv')\n",
    "def getplotcsv():\n",
    "    #csv = '1,2,3\\n4,5,6\\n'\n",
    "    #return Response(\n",
    "    #    mfname.txt,\n",
    "     #   mimetype=\"text/csv\",\n",
    "     #   headers={\"Content-disposition\":\n",
    "      #           \"attachment; filename=mfname.txt\"})\n",
    "    #return Response\n",
    "    return send_file('mfname.txt',\n",
    "                     mimetype='text/csv',\n",
    "                     attachment_filename='mfname.txt',\n",
    "                     as_attachment=True)\n",
    "\n",
    "if __name__ == '__main__':\n",
    "    app.run(port=5000)"
   ]
  },
  {
   "cell_type": "code",
   "execution_count": null,
   "metadata": {},
   "outputs": [],
   "source": []
  }
 ],
 "metadata": {
  "kernelspec": {
   "display_name": "Python 3",
   "language": "python",
   "name": "python3"
  },
  "language_info": {
   "codemirror_mode": {
    "name": "ipython",
    "version": 3
   },
   "file_extension": ".py",
   "mimetype": "text/x-python",
   "name": "python",
   "nbconvert_exporter": "python",
   "pygments_lexer": "ipython3",
   "version": "3.7.4"
  }
 },
 "nbformat": 4,
 "nbformat_minor": 2
}
